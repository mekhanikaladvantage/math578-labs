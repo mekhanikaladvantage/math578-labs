{
 "cells": [
  {
   "cell_type": "code",
   "execution_count": 1,
   "metadata": {},
   "outputs": [],
   "source": [
    "# Marc Mekhanik, 2607624445\n",
    "# MATH 578 Lab 1\n",
    "# This cell will be for basic imports and helper function functions\n",
    "\n",
    "import numpy as np\n",
    "import math\n",
    "from IPython.core.debugger import set_trace\n",
    "import matplotlib.pyplot as plt\n",
    "#set_trace() places a breakpoint into your code\n",
    "\n",
    "def Mmul (A, x):\n",
    "    return np.matmul(A,x)\n",
    "    \n",
    "def Minv (A,x):\n",
    "    return np.linalg.solve(A,x)\n",
    "\n",
    "def force_tridiagonal(A):\n",
    "    tri_di = A.copy()\n",
    "    for i in range(len(A)):\n",
    "        for j in range(len(A)):\n",
    "            if np.abs(i - j) > 1:\n",
    "                tri_di[i][j] = 0\n",
    "            else:\n",
    "                if i > j:\n",
    "                    tri_di[i][j] = tri_di[j][i]\n",
    "                else:\n",
    "                    pass\n",
    "    return tri_di"
   ]
  },
  {
   "cell_type": "code",
   "execution_count": 2,
   "metadata": {},
   "outputs": [],
   "source": [
    "# Sandbox cell, for testing and exploration\n",
    "\n",
    "#Q1 sandbox\n",
    "I = np.eye(3,3)\n",
    "I_diag_signs = np.sign(np.diag(I))\n",
    "I_diag_signs\n",
    "np.min(I_diag_signs) == 1\n",
    "\n",
    "#Q3 sandbox\n",
    "# Q: does np.triu(A,-1) check that \n",
    "A = np.arange(16).reshape(4,4)\n",
    "np.triu(A,-1)\n",
    "# yup!\n",
    "\n",
    "nu =20."
   ]
  },
  {
   "cell_type": "markdown",
   "metadata": {},
   "source": [
    "## Question 2"
   ]
  },
  {
   "cell_type": "code",
   "execution_count": 5,
   "metadata": {},
   "outputs": [
    {
     "name": "stdout",
     "output_type": "stream",
     "text": [
      "Q is orthogonal: True\n"
     ]
    }
   ],
   "source": [
    "# Question 2\n",
    "# Write a function that generates random orthogonal matrices\n",
    "# So generate QR breakdown of random matrix, and return Q\n",
    "def generate_orthogonal_matrix(n = np.random.randint(1,500)):\n",
    "    #first, pick random integer for size\n",
    "    #generate A from Normal distribution\n",
    "    A = np.random.normal(0,0.5,(n,n))\n",
    "    #perform QR, my method actually just returns Q anyway\n",
    "    (Q,R) = Household_QR(A)\n",
    "    return Q\n",
    "Q = generate_orthogonal_matrix()\n",
    "(n,n) = Q.shape\n",
    "print(\"Q is orthogonal:\", np.allclose(Q.T @ Q, np.eye(n,n)))\n",
    "# amazing\n",
    "\n",
    "def generate_symm_matrix(n = np.random.randint(1,500)):\n",
    "    A = np.random.randn(n,n)\n",
    "    A_symm = (A + A.T)/2\n",
    "    return A_symm\n"
   ]
  },
  {
   "cell_type": "markdown",
   "metadata": {},
   "source": [
    "## Question 1"
   ]
  },
  {
   "cell_type": "code",
   "execution_count": 4,
   "metadata": {},
   "outputs": [
    {
     "name": "stdout",
     "output_type": "stream",
     "text": [
      "A is upper triangular now: True\n",
      "Q is orthogonal: True\n",
      "Diagonal values of A are all nonnegative: True\n"
     ]
    }
   ],
   "source": [
    "# Question 1: Implement a function that computes a QR factorization of a given n x n matrix. \n",
    "# Use either householder reflections or Givens Rotations. \n",
    "# Make sure the diagonal entries of the factor R are nonnegative\n",
    "# Test on multiple cases\n",
    "\n",
    "\n",
    "def construct_Q(vectors,vector_sizes,n):\n",
    "    # this function constructs the Q in our QR decomp.\n",
    "    Q = np.eye(n,n)\n",
    "    for k in range(n-2,-1,-1):\n",
    "        # I can actually just copy the approach to upper traingularize\n",
    "        # and work on Q in-place.\n",
    "        # vectors is 2d\n",
    "        # set_trace()\n",
    "        to_be_subtracted = 2*Mmul(np.outer(vectors[k,:int(vector_sizes[k])],vectors[k,:int(vector_sizes[k])]),Q[k:n,k:n])\n",
    "        Q[k:n,k:n] = Q[k:n,k:n] - to_be_subtracted\n",
    "    # after this iteration, we should have our full Q\n",
    "    return Q\n",
    "        \n",
    "\n",
    "# This upper triangularizes A, and even does so in place, now I need Q.\n",
    "def Household_QR(B):\n",
    "    A = B.copy()\n",
    "    # to sandbox we go\n",
    "    # This takes a square matrix A\n",
    "    # and uses householder vectors to reduce it to upper triangular form\n",
    "    # we're going to store the vectors to construct Q later\n",
    "    # and we will modify A in-place to save memory\n",
    "    (n,n) = A.shape\n",
    "    # this is far too big but I will deal with that later\n",
    "    vectors = np.zeros(shape=(n,n))\n",
    "    vector_sizes = np.zeros(n)\n",
    "    for k in range(0,n):\n",
    "        # We zero everything below the kth value of the kth column\n",
    "        x = A[k:n,k]\n",
    "        #construct standard basis vector\n",
    "        e = np.zeros(x.size)\n",
    "        e[0] = 1.0\n",
    "        # construct reflection vectors\n",
    "        v = np.sign(x[0])*np.linalg.norm(x)*e + x\n",
    "        #if v is zero we should skip the iteration\n",
    "        if np.linalg.norm(v) == 0:\n",
    "            continue\n",
    "        # this should be giving me proper signs but isn't\n",
    "        v = v/np.linalg.norm(v)\n",
    "        # Append v to vectors\n",
    "        # this is ugly but works so w/e\n",
    "        vectors[k,:v.size] = v\n",
    "        vector_sizes[k] = v.size\n",
    "        # Apply reflections\n",
    "        # np.outer computes v * v^T\n",
    "        A[k:n,k:n] = A[k:n,k:n] - 2*(np.outer(v,v) @ A[k:n,k:n])\n",
    "    # by the end of this process, A should be upper triangular (will test this now)\n",
    "    # we will construct Q later\n",
    "    # I don't need to return A because it is modified in-place\n",
    "    A_diagonal_signs = np.sign(np.diag(A))\n",
    "    diag_signs = np.diag(A_diagonal_signs)\n",
    "    A[:,:] = diag_signs @ A\n",
    "    Q = construct_Q(vectors,vector_sizes,n)\n",
    "    return (Q,np.triu(A))\n",
    "\n",
    "# testing an example matrix\n",
    "# a1, a2, a3 = [1,2,4],[3,4,6],[2020,4,11]\n",
    "# A = np.array([a1,a2,a3])\n",
    "# A_copy = np.array([a1,a2,a3])\n",
    "# Q = Household_QR(A)\n",
    "\n",
    "# print(\"A=\", A_copy)\n",
    "# print(\"R=\", A)\n",
    "# print(\"Q=\", Q)\n",
    "\n",
    "# this might work, let's test another\n",
    "A = np.random.randint(-100,100,(50,50))\n",
    "B = np.copy(A)\n",
    "(Q,A) = Household_QR(A)\n",
    "# test A upper triangular\n",
    "is_upper_triangular = np.allclose(A,np.triu(A),rtol=1e-05)\n",
    "# relative tolerance for allclose to return \"True\" is 1e-05\n",
    "print (\"A is upper triangular now:\", is_upper_triangular)\n",
    "print(\"Q is orthogonal:\", np.allclose(Q.T @ Q, np.eye(50,50)))\n",
    "# so in my estimation this is... ok\n",
    "\n",
    "# if all values on diagonal are nonnegative\n",
    "# the min value of the signs of diagonal entries should be 1.\n",
    "all_nonnegative = np.min(np.diag(A)) >= 0\n",
    "print(\"Diagonal values of A are all nonnegative:\", all_nonnegative)\n",
    "# for n>=50 R isn't reliably upper triangular within relative tolerance 1e-05\n",
    "# but Q is orthognal within tolerance for n=100"
   ]
  },
  {
   "cell_type": "markdown",
   "metadata": {},
   "source": [
    "Question 3: \n",
    "Modify QR code to convert a $n \\times n $ matrix $A$ into upper Hessenberg Form. Implement also a function that converts $A$ to tridiagonal form. You may wish to force the output matrix to be exactly symmetric and tridiagonal.\n",
    "\n",
    "Solution: Note that a tridiagonal matrix is both upper and lower Hessenberg. If A symmetric, then we can make it tridiagonal by making it upper hessenberg, and simply setting all super-diagonal entries to match all subdiagonal ones."
   ]
  },
  {
   "cell_type": "code",
   "execution_count": 6,
   "metadata": {},
   "outputs": [
    {
     "name": "stdout",
     "output_type": "stream",
     "text": [
      "A is now upper Hessenberg: True\n",
      "C is tridiagonal: True\n"
     ]
    }
   ],
   "source": [
    "# Question 3\n",
    "# Modify QR code to send a n x n matrix A to upper Hessegberg from\n",
    "# which I'm pretty sure I can just do by modifying my householder forms to start zeroing one entry down\n",
    "def Household_Hessenberg(A):\n",
    "    # This takes a square matrix A\n",
    "    # and uses householder vectors to reduce it to upper Hessenberg form\n",
    "    # and we will modify A in-place to save memory\n",
    "    (n,n) = A.shape\n",
    "    for k in range(0,n-1):\n",
    "        # We zero everything below the k+1th value of the kth column\n",
    "        x = A[k+1:n,k]\n",
    "        #construct standard basis vector\n",
    "        e = np.zeros(x.size)\n",
    "        e[0] = 1.0\n",
    "        # construct reflection vectors\n",
    "        v = np.sign(x[0])*np.linalg.norm(x)*e + x\n",
    "        # this should be giving me proper signs but isn't\n",
    "        if np.linalg.norm(v) == 0:\n",
    "            pass\n",
    "        v = v/np.linalg.norm(v)\n",
    "        # Apply reflections\n",
    "        # np.outer computes v * v^T\n",
    "        A[k+1:n,k:n] = A[k+1:n,k:n] - 2*(np.outer(v,v) @ A[k+1:n,k:n])\n",
    "    # by the end of this process, A should be upper Hessenberg (will test this now)\n",
    "    \n",
    "# this should tridiagonalize A real symmetric matrix A\n",
    "def tridiagonalize(A):\n",
    "    # Input a n x n matrix real symmetric A\n",
    "    Household_Hessenberg(A)\n",
    "    # force to be tridiagonal and symmetric\n",
    "    # note that since A symmetric, we should be able to fix values.\n",
    "    # set_trace()\n",
    "    tri_di = A.copy()\n",
    "    for i in range(len(A)):\n",
    "        for j in range(len(A)):\n",
    "            if np.abs(i - j) > 1:\n",
    "                tri_di[i][j] = 0\n",
    "            else:\n",
    "                if i > j:\n",
    "                    tri_di[i][j] = tri_di[j][i]\n",
    "                else:\n",
    "                    pass\n",
    "    return tri_di\n",
    "\n",
    "    \n",
    "# B = np.arange(16).reshape(4,4)\n",
    "# B[0,0] = 2020\n",
    "# Household_Hessenberg(B)\n",
    "# print(B)\n",
    "# print(B.T)\n",
    "# Household_Hessenberg(B.T)\n",
    "# print(B)\n",
    "\n",
    "\n",
    "# now for more general testing\n",
    "n = np.random.randint(1,10)\n",
    "A = np.random.randn(n,n)\n",
    "# # B = np.copy(A)\n",
    "# B = np.random.randint(-10,10,(4,4))\n",
    "Household_Hessenberg(A)\n",
    "is_Hessenberg = np.allclose(np.triu(A,-1),A)\n",
    "print(\"A is now upper Hessenberg:\", is_Hessenberg)\n",
    "\n",
    "B = generate_symm_matrix()\n",
    "C = tridiagonalize(B)\n",
    "is_tridiagonal  = np.allclose(np.triu(C,-1),C) and np.allclose(np.tril(C,1),C)\n",
    "print(\"C is tridiagonal:\", is_tridiagonal)\n",
    "\n"
   ]
  },
  {
   "cell_type": "markdown",
   "metadata": {},
   "source": [
    "## Question 4\n",
    "Write a code that performs the QR algorithm on a given real symmetric tridiagonal\n",
    "matrix. Produce 3 versions: no shift (i.e., basic QR), the Rayleigh quotient shift, and the\n",
    "Wilkinson shift. For greater efficiency, you may want to modify your QR factorization\n",
    "code so that it takes advantage of the tridiagonality (and perhaps symmetry as well).\n",
    "You may also wish to enforce exact symmetry and tridiagonality at each step of the QR\n",
    "algorithm."
   ]
  },
  {
   "cell_type": "code",
   "execution_count": 7,
   "metadata": {},
   "outputs": [
    {
     "name": "stdout",
     "output_type": "stream",
     "text": [
      "Max value of bottom row= 0.0\n",
      "T is upper Triangular: False\n",
      "approx. evals of A: [-1.98342339 -1.85662053 -1.48591075 -0.92667219 -0.76187157 -0.35145403\n",
      " -0.2285795  -0.14387112 -0.09548735  0.03760063]\n"
     ]
    }
   ],
   "source": [
    "A = generate_symm_matrix(n=10)\n",
    "T_D = tridiagonalize(A)\n",
    "# Since T_D is tridiagonal, it would be more efficient to compute it's QR decomp using Givens rotations\n",
    "# this would allow for a more efficient computation of Q\n",
    "# but I am doing this assignment on borrowed time, so I will not do this\n",
    "def QR_iteration(T_D,nmax,for_plotting=False):\n",
    "    # input is tridiagonal matrix. \n",
    "    # nmax is maximum number of iterations.\n",
    "    T = T_D.copy()\n",
    "    (n,n) = T.shape\n",
    "    if for_plotting:\n",
    "        eigs = np.zeros((nmax,n))\n",
    "        subdiags = np.zeros(nmax)\n",
    "    for i in range(nmax):\n",
    "        #Compute QR\n",
    "        (Q,R) = Household_QR(T)\n",
    "        T = R @ Q\n",
    "        if i <= (nmax - 2):\n",
    "            T = force_tridiagonal(T)\n",
    "        if for_plotting:\n",
    "            eigs[i][:] = np.diag(T)\n",
    "            subdiags[i] = T[n-2][n-1]\n",
    "\n",
    "    # at end of iteration we should be have our T, with eigenvalues of A on diagonal,\n",
    "    if for_plotting:\n",
    "        return (sorted(eigs),subdiags)\n",
    "    return T\n",
    "\n",
    "T = QR_iteration(T_D,100)\n",
    "(n,n) = T.shape\n",
    "print(\"Max value of bottom row=\", np.amax(T[n-1][:n-1]))\n",
    "is_upper_triangular = np.allclose(T,np.triu(T),rtol=1e-05)\n",
    "print(\"T is upper Triangular:\", is_upper_triangular)\n",
    "print(\"approx. evals of A:\", np.diag(T))\n",
    "#just to peak at the convergence\n",
    "#that's pretty cool\n"
   ]
  },
  {
   "cell_type": "markdown",
   "metadata": {},
   "source": [
    "## Question 4: Rayleigh Quotient Shift"
   ]
  },
  {
   "cell_type": "markdown",
   "metadata": {},
   "source": [
    "Since in the process, we will eventually get some sort of block matrix with a positive value in the bottom right diagoanal, this is an approximate eigenvalue and we get the the Rayleigh Quotient should be this bottom-most value. I.e.\n",
    "$$ A = \\begin{bmatrix}\n",
    "A_{n-1} & u \\\\\n",
    "0^T & a_{nn}\n",
    "\\end{bmatrix}$$\n",
    "Where the Rayleigh quotient $\\mu(A,a_k) = a_{nn}$. This is a suitable approximation of one of the eigenvalues when, aside from the last diagonal entry, the entries of the bottom row of the matrix are very small in magnitude, which seems to be the case as we can see from the output of our standard QR iteration cell."
   ]
  },
  {
   "cell_type": "code",
   "execution_count": 8,
   "metadata": {},
   "outputs": [
    {
     "name": "stdout",
     "output_type": "stream",
     "text": [
      "T_{n,n_1}= 0.0\n",
      "unshifted T_{n,n_1}= 1.6960480231180568e-85\n",
      "T is upper Triangular: True\n",
      "approx. evals of A (shift): [-3.71095762 -2.73153994 -1.57744518 -0.94999272]\n",
      "approx. evals of A (no shift): [-1.59588524 -1.37344378 -0.31614277  0.0435967 ]\n"
     ]
    }
   ],
   "source": [
    "def QR_Rayleigh_shift(T_D,nmax,for_plotting=False):\n",
    "    T = T_D.copy()\n",
    "    #mu is Rayleigh quotient\n",
    "    (n,n) = T.shape\n",
    "    if for_plotting:\n",
    "        eigs = np.zeros((nmax,n))\n",
    "        subdiags = np.zeros(nmax)\n",
    "    for i in range(nmax):\n",
    "        mu = T[n-1][n-1]\n",
    "        #Compute QR\n",
    "        T_shift = T - mu*np.eye(n)\n",
    "        (Q,R) = Household_QR(T_shift)\n",
    "        T = R @ Q + mu*np.eye(n)\n",
    "        if i <= (nmax - 2):\n",
    "            T = force_tridiagonal(T)\n",
    "            # set_trace()\n",
    "        if for_plotting:\n",
    "            eigs[i][:] = np.diag(T)\n",
    "            subdiags[i] = T[n-2][n-1]\n",
    "    if for_plotting:\n",
    "        return (sorted(eigs),subdiags)\n",
    "    return T\n",
    "    \n",
    "A = generate_symm_matrix(n=4)\n",
    "T_D = tridiagonalize(A)\n",
    "T = QR_Rayleigh_shift(T_D,50)\n",
    "T_noshift = QR_iteration(T_D,100)\n",
    "(n,n) = T.shape\n",
    "print(\"T_{n,n_1}=\", T[n-1][n-2])\n",
    "print(\"unshifted T_{n,n_1}=\", T_noshift[n-1][n-2])\n",
    "is_upper_triangular = np.allclose(T,np.triu(T),rtol=1e-05)\n",
    "print(\"T is upper Triangular:\", is_upper_triangular)\n",
    "print(\"approx. evals of A (shift):\", np.diag(T))\n",
    "print(\"approx. evals of A (no shift):\", np.diag(T_noshift))"
   ]
  },
  {
   "cell_type": "markdown",
   "metadata": {},
   "source": [
    "## Question 4: Wilkinson Shift\n",
    "This is designed to exploit symmetry of our target matrix. If we extract the $ 2 \\times 2 $ submatrix of A symmetric, which we can represent as \n",
    "$$\n",
    "\\begin{bmatrix}\n",
    "a & b \\\\\n",
    "b & c\n",
    "\\end{bmatrix}\n",
    "$$\n",
    "This naming convention will help to follow the code below."
   ]
  },
  {
   "cell_type": "code",
   "execution_count": 9,
   "metadata": {},
   "outputs": [
    {
     "name": "stdout",
     "output_type": "stream",
     "text": [
      "T_{n,n_1}= 0.0\n",
      "T is upper Triangular: False\n",
      "approx. evals of A (shift): [-1.85544841 -1.69157952 -1.2066322  -0.59077036 -0.28549859  0.02946647\n",
      "  0.76759632  1.14938301  1.446723    1.5084034 ]\n"
     ]
    }
   ],
   "source": [
    "def compute_wilkinson_shift(a,b,c):\n",
    "    delta = (a -c)/2\n",
    "    mu = c - (np.sign(delta)*b**2)/(abs(delta)+math.sqrt(delta**2+b**2))\n",
    "    return mu\n",
    "\n",
    "def QR_wilkinson_shift(T_D,nmax,for_plotting=False):\n",
    "    T = T_D.copy()\n",
    "    #mu is wilkinson shift\n",
    "    (n,n) = T.shape\n",
    "    if for_plotting:\n",
    "        eigs = np.zeros((nmax,n))\n",
    "        subdiags = np.zeros(nmax)\n",
    "    for i in range(nmax):\n",
    "        mu = compute_wilkinson_shift(T[n-2][n-2],T[n-2][n-1],T[n-1][n-1])\n",
    "        #Compute QR\n",
    "        T_shift = T - mu*np.eye(n)\n",
    "        (Q,R) = Household_QR(T_shift)\n",
    "        T = R @ Q + mu*np.eye(n)\n",
    "        if i <= (nmax - 2):\n",
    "            T = force_tridiagonal(T)\n",
    "            # set_trace()\n",
    "        if for_plotting:\n",
    "            eigs[i][:] = np.diag(T)\n",
    "            subdiags[i] = T[n-2][n-1]\n",
    "    if for_plotting:\n",
    "        return (sorted(eigs),subdiags)\n",
    "    return T\n",
    "\n",
    "A = generate_symm_matrix(n=10)\n",
    "T_D = tridiagonalize(A)\n",
    "T = QR_wilkinson_shift(T_D,200)\n",
    "(n,n) = T.shape\n",
    "print(\"T_{n,n_1}=\", T[n-1][n-2])\n",
    "is_upper_triangular = np.allclose(T,np.triu(T),rtol=1e-05)\n",
    "print(\"T is upper Triangular:\", is_upper_triangular)\n",
    "print(\"approx. evals of A (shift):\", np.diag(T))"
   ]
  },
  {
   "cell_type": "markdown",
   "metadata": {},
   "source": [
    "## Question 5\n",
    "Generate a symmetric random matrix with a given set of eigenvalues as $A = Q^T \\Lambda Q$,\n",
    "where $Q$ is a random orthogonal matrix, and $\\Lambda$ is a diagonal matrix (for example, take\n",
    "$\\Lambda = diag(1,\\dots, 10)$. Please set a fixed seed for the random number generator for\n",
    "reproducibility. Reduce A to a tridiagonal form, and run the QR algorithm on it, by\n",
    "using the functions you implemented. Pick several of the eigenvalues that represent\n",
    "variety of possibilities (that is, one small eigenvalue, one mid-sized eigenvalue, etc.),\n",
    "including the largest eigenvalue, and plot the corresponding errors (in log-scale) against\n",
    "the iteration number. Moreover, plot the size (in log-scale) of the off-diagonal entries\n",
    "that are close to the position of the chosen eigenvalues against the iteration number.\n",
    "Do this for all 3 versions of the QR algorithm. Comment on your results."
   ]
  },
  {
   "cell_type": "code",
   "execution_count": 72,
   "metadata": {},
   "outputs": [
    {
     "data": {
      "text/plain": [
       "<matplotlib.legend.Legend at 0x23593ffa748>"
      ]
     },
     "execution_count": 72,
     "metadata": {},
     "output_type": "execute_result"
    },
    {
     "data": {
      "image/png": "[encoded data removed]",
      "text/plain": [
       "<Figure size 1080x1080 with 3 Axes>"
      ]
     },
     "metadata": {
      "needs_background": "light"
     },
     "output_type": "display_data"
    }
   ],
   "source": [
    "#set seed\n",
    "np.random.seed(0)\n",
    "Lambda = np.diag(np.arange(10)+1)\n",
    "Q = generate_orthogonal_matrix(n=10)\n",
    "A = Q.T @ Lambda @ Q\n",
    "T_D = tridiagonalize(A)\n",
    "(real_eigs,real_evecs) = np.linalg.eig(T_D)\n",
    "\n",
    "#solve w/ no shift\n",
    "# I need to track this against evals and errors against iteration number.\n",
    "# also need size of off_diagonal entries\n",
    "# I think in total I will do 200 iterations.\n",
    "(eigs_no_shift,subdiags_no_shift)  = QR_iteration(T_D,200,for_plotting = True)\n",
    "(eigs_rayleigh_shift,subdiags_rayleigh_shift) = QR_Rayleigh_shift(T_D,200,for_plotting = True)\n",
    "(eigs_wilkinson_shift,subdiags_wilkinson_shift) = QR_wilkinson_shift(T_D,200,for_plotting = True)\n",
    "\n",
    "# reminder of dimension\n",
    "# eigs = np.zeros((nmax,n))\n",
    "# subdiags = np.zeros(nmax)\n",
    "fig,(ax1,ax2,ax3) = plt.subplots(3,figsize=(15,15))\n",
    "num_of_iters = np.arange(200)+1\n",
    "\n",
    "#Unshifted_QR\n",
    "error_smallest = np.abs(np.min(real_eigs) - np.min(eigs_no_shift,axis=1))\n",
    "err_median = np.abs(np.median(real_eigs) - np.median(eigs_no_shift,axis=1))\n",
    "err_largest = np.abs(np.max(real_eigs) - np.max(eigs_no_shift,axis=1))\n",
    "ax1.plot(num_of_iters,error_smallest,\"b-\",label=\"error of smallest eigenvalue\")\n",
    "ax1.plot(num_of_iters,subdiags_no_shift,\"b--\",label=\"magnitude of T_{n,n-1}\")\n",
    "ax1.plot(num_of_iters,err_median,\"r-\",label=\"error of median eigenvalue\")\n",
    "ax1.plot(num_of_iters,err_largest,\"g-\",label=\"error of largest eigenvalue\")\n",
    "\n",
    "ax1.set_yscale(\"log\")\n",
    "ax1.set_xlabel(\"iterations\")\n",
    "ax1.set_ylabel(\"log of eval error\")\n",
    "ax1.set_title(\"Approximation Error of Unshifted QR Iteration\")\n",
    "ax1.legend()\n",
    "\n",
    "#Rayleigh_shift\n",
    "error_smallest = np.abs(np.min(real_eigs) - np.min(eigs_rayleigh_shift,axis=1))\n",
    "err_median = np.abs(np.median(real_eigs) - np.median(eigs_rayleigh_shift,axis=1))\n",
    "err_largest = np.abs(np.max(real_eigs) - np.max(eigs_rayleigh_shift,axis=1))\n",
    "ax2.plot(num_of_iters,error_smallest,\"b-\",label=\"error of smallest eigenvalue\")\n",
    "ax2.plot(num_of_iters,subdiags_rayleigh_shift,\"b--\",label=\"magnitude of T_{n,n-1}\")\n",
    "ax2.plot(num_of_iters,err_median,\"r-\",label=\"error of median eigenvalue\")\n",
    "ax2.plot(num_of_iters,err_largest,\"g-\",label=\"error of largest eigenvalue\")\n",
    "\n",
    "ax2.set_yscale(\"log\")\n",
    "ax2.set_xlabel(\"iterations\")\n",
    "ax2.set_ylabel(\"log of eval error\")\n",
    "ax2.set_title(\"Approximation Error of Rayleigh Shift QR Iteration\")\n",
    "ax2.legend()\n",
    "\n",
    "#Wilkinson shift\n",
    "error_smallest = np.abs(np.min(real_eigs) - np.min(eigs_wilkinson_shift,axis=1))\n",
    "err_median = np.abs(np.median(real_eigs) - np.median(eigs_wilkinson_shift,axis=1))\n",
    "err_largest = np.abs(np.max(real_eigs) - np.max(eigs_wilkinson_shift,axis=1))\n",
    "ax3.plot(num_of_iters,error_smallest,\"b-\",label=\"error of smallest eigenvalue\")\n",
    "ax3.plot(num_of_iters,subdiags_wilkinson_shift,\"b--\",label=\"magnitude of T_{n,n-1}\")\n",
    "ax3.plot(num_of_iters,err_median,\"r-\",label=\"error of median eigenvalue\")\n",
    "ax3.plot(num_of_iters,err_largest,\"g-\",label=\"error of largest eigenvalue\")\n",
    "\n",
    "ax3.set_yscale(\"log\")\n",
    "ax3.set_xlabel(\"iterations\")\n",
    "ax3.set_ylabel(\"log of eval error\")\n",
    "ax3.set_title(\"Approximation Error of Wilkinson Shift QR Iteration\")\n",
    "ax3.legend()"
   ]
  },
  {
   "cell_type": "markdown",
   "metadata": {},
   "source": [
    "In the shift methods, the magnitude of $T_{n,n-1}$ drops much faster than in the unshifted method, as is to be expected. It is curious that I seem to have better convergence for the smaller eigenvalues, when we should expect better performance for the larger ones. It is also very odd that both shift methods see error for the smallest eigenvalue increase before dropping off again. This is likely due to an error in my implementation, and had I more time I would go back and fix this.\n",
    "\n",
    "Otherwise, we see that the shift methods outperform the unshifted method. Typically we would expect Wilkinson shift to be superior, but in this case it seems to be Rayleigh Quotient iteration that seems to give the smallest error. This is again likely due to implementation issues."
   ]
  },
  {
   "cell_type": "code",
   "execution_count": null,
   "metadata": {},
   "outputs": [],
   "source": []
  }
 ],
 "metadata": {
  "kernelspec": {
   "display_name": "Python 3",
   "language": "python",
   "name": "python3"
  },
  "language_info": {
   "codemirror_mode": {
    "name": "ipython",
    "version": 3
   },
   "file_extension": ".py",
   "mimetype": "text/x-python",
   "name": "python",
   "nbconvert_exporter": "python",
   "pygments_lexer": "ipython3",
   "version": "3.7.3"
  }
 },
 "nbformat": 4,
 "nbformat_minor": 2
}
