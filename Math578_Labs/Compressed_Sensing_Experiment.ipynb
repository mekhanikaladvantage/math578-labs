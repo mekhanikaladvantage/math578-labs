{
 "cells": [
  {
   "cell_type": "code",
   "execution_count": 2,
   "metadata": {},
   "outputs": [
    {
     "data": {
      "text/plain": [
       "[<matplotlib.lines.Line2D at 0x1c080b3a640>]"
      ]
     },
     "execution_count": 2,
     "metadata": {},
     "output_type": "execute_result"
    },
    {
     "data": {
      "image/png": "[encoded data removed]",
      "text/plain": [
       "<Figure size 432x288 with 1 Axes>"
      ]
     },
     "metadata": {
      "needs_background": "light"
     },
     "output_type": "display_data"
    }
   ],
   "source": [
    "# Marc Mekhanik 260762445 Compressed Sensing Experiment\n",
    "\n",
    "# Imports and standard helper functions\n",
    "import numpy as np\n",
    "import math\n",
    "import cvxpy as cp\n",
    "import matplotlib.pyplot as plt\n",
    "from IPython.core.debugger import set_trace\n",
    "import random\n",
    "\n",
    "# We will recover a 1024-length signal w/ a Gaussian measurement ensemble\n",
    "\n",
    "def generate_sparse_vector(size,nonzeros):\n",
    "    # this will create a vector of length size\n",
    "    # with nonzeros number of random nonzero entries\n",
    "    # We will obtain this vector in a similar manner to how Tao et al did it.\n",
    "    # which is assigning 50 1s or zeros randomly from a uniform distribution.\n",
    "    if nonzeros > size:\n",
    "        print(\"Cannot have more nonzeros than entries\")\n",
    "        return\n",
    "    x = np.zeros(size)\n",
    "    # now to choose a random collection of indices\n",
    "    #to do this I will first create an array of indices.\n",
    "    all_indices = np.arange(0,size)\n",
    "    indices = np.random.choice(all_indices,50,replace=False)\n",
    "    # false is so we sample w/o replacement\n",
    "    # this is the only thing I have to change\n",
    "    for i in indices:\n",
    "        # coin flip\n",
    "        value = np.random.binomial(1,0.5)\n",
    "        if value == 1:\n",
    "            x[i] = 1\n",
    "        else:\n",
    "            x[i] = -1\n",
    "#     x[indices] = np.random.rand(nonzeros)\n",
    "    return x\n",
    "\n",
    "# this section is to recover compressible vectors, but isn't quite working yet.\n",
    "def sequence(t):\n",
    "    return 5.819*(t**(-1.05))\n",
    "\n",
    "def generate_compressible_vector():\n",
    "    # this will be made to measure. \n",
    "    # the sequence is x(t) = 5.819*t^(10/9)\n",
    "    vectorized_sequence = np.vectorize(sequence)\n",
    "    \n",
    "    inputs = np.linspace(1e-8,512,512)\n",
    "    data = vectorized_sequence(inputs)\n",
    "    \n",
    "    # shuffle operates in-place\n",
    "    np.random.shuffle(data)\n",
    "    #ok now more.\n",
    "    data = [each*random.choice([-1,1]) for each in data]\n",
    "    return data\n",
    "x = generate_compressible_vector()\n",
    "plt.plot(x)\n",
    "# for some reason this is going to zero too fast, definitely something to fix."
   ]
  },
  {
   "cell_type": "markdown",
   "metadata": {},
   "source": [
    "We will solve the $\\ell_1$-minimization problem of basis pursuit. \n",
    "$$ \\min ||x||_1 \\text{ subject to } ||Ax - y||_2 \\leq \\epsilon $$\n",
    "which we can cast as a convex program, specifically a second order cone problem (SOCP). \n",
    "To solve this problem we will use the convex optimization solving package CVXPY.\n",
    "\n",
    "In general, a SOCP takes the form\n",
    "$$\n",
    "\\begin{align}\n",
    "    \\text{minimize } & f^T(x)\\\\ \n",
    "    \\text{ subject to } & ||Ax_i - b_i||_2 \\leq c_i^Tx + d_i, \\, i = 1,\\dots,m \\\\\n",
    "    & Fx = g\n",
    "\\end{align}\n",
    "$$\n",
    "We have 1 constraint, $||Ax - y||_2 \\leq \\epsilon$, our objective function $f$ has form $\\sum_{i = 1}^n |x_i|$\n",
    "so in the standard form of the SOCP, we have $m=1$, $c_1 = 0, d_i = \\epsilon$."
   ]
  },
  {
   "cell_type": "code",
   "execution_count": 4,
   "metadata": {},
   "outputs": [
    {
     "name": "stdout",
     "output_type": "stream",
     "text": [
      "300\n"
     ]
    },
    {
     "data": {
      "text/plain": [
       "[<matplotlib.lines.Line2D at 0x2347c968430>]"
      ]
     },
     "execution_count": 4,
     "metadata": {},
     "output_type": "execute_result"
    },
    {
     "data": {
      "image/png": "[encoded data removed]",
      "text/plain": [
       "<Figure size 432x288 with 1 Axes>"
      ]
     },
     "metadata": {
      "needs_background": "light"
     },
     "output_type": "display_data"
    }
   ],
   "source": [
    "# sandbox\n",
    "#let's solve a least squares problem as a sanity check"
   ]
  },
  {
   "cell_type": "code",
   "execution_count": 5,
   "metadata": {},
   "outputs": [
    {
     "name": "stdout",
     "output_type": "stream",
     "text": [
      "y_noisy is noisy: True\n"
     ]
    }
   ],
   "source": [
    "# How to construct a Gaussian measurement ensemble\n",
    "# I will replicate the experiment of Tao et al, and create a 300 x 1024 Gaussian measurement ensemble\n",
    "# aka a 300 by 1024 matrix A s.t. every entry in A is chosen from a normal distribution\n",
    "A = np.random.randn(300,1024)\n",
    "x = generate_sparse_vector(1024,50)\n",
    "y = A @ x\n",
    "#now to corrupt our measurement vector y with Gaussian noise\n",
    "y_noisy = y + 0.05*np.random.randn(len(y))\n",
    "is_y_noisy = not np.allclose(y_noisy,y)\n",
    "print(\"y_noisy is noisy:\", is_y_noisy )\n",
    " "
   ]
  },
  {
   "cell_type": "code",
   "execution_count": 5,
   "metadata": {},
   "outputs": [],
   "source": [
    "#This cell is for implementing the CVXPY solver\n",
    "# We need a term for our error, otherwise impossible to use solver.\n",
    "# by Tao et al, eps = sigma^2(n + 2sqrt(2n))\n",
    "# Q: what's n?? the amount of measurements, so in my case 300\n",
    "def recovery_process(noise,sparse=True):\n",
    "    # we're going to recover a signal\n",
    "    #choose your fighter\n",
    "    if sparse:\n",
    "        signal_to_recover = generate_sparse_vector(1024,50)\n",
    "    else:\n",
    "        signal_to_recover = generate_compressible_vector()\n",
    "    # using the cvxpy socp solver\n",
    "    # at various noise levels\n",
    "    # and performing to recovery 10 times per noise level\n",
    "    # to get an average error\n",
    "    # for each recovery, we will use the same 300 x 1024 Gaussian Ensemble\n",
    "    A = noise * np.random.randn(300,1024)\n",
    "    # take measurements\n",
    "    y = A @ signal_to_recover\n",
    "    #corrupt measurements with noise\n",
    "    y_noisy = y + noise*np.random.randn(len(y))\n",
    "    #set noise to solve\n",
    "    eps = math.sqrt(noise*(300+ 2*math.sqrt(2*300)))\n",
    "    #solve baybee\n",
    "    x = cp.Variable(1024)\n",
    "    #we use cp.SOC(t,x) to get ||x||_2 < t\n",
    "    soc_constraints = [cp.SOC(eps, A @ x - y_noisy)]\n",
    "    prob = cp.Problem(cp.Minimize(cp.norm(x,1)),soc_constraints)\n",
    "    prob.solve(solver=cp.ECOS, max_iters=200)\n",
    "    return (x.value,signal_to_recover)\n",
    "    \n",
    "    \n",
    "# ok let's give this a spin\n",
    "# (recovered_vector,x) = recovery_process(0.9)\n",
    "# f, (ax1,ax2) = plt.subplots(1,2,sharey=True)\n",
    "# ax1.plot(x)\n",
    "# ax1.set_title(\"signal\")\n",
    "# ax2.plot(recovered_vector)\n",
    "# ax2.set_title(\"Recovered signal\")\n",
    "# plt.show()\n",
    "# error = np.linalg.norm((x - recovered_vector),2)\n",
    "# print(\"error is \", error)\n",
    "\n",
    "\n",
    "# (recovered_y,y) = recovery_process(0.5,sparse = False)\n",
    "# f, (ax1,ax2) = plt.subplots(1,2,sharey=True)\n",
    "# ax1.plot(y)\n",
    "# ax1.set_title(\"signal\")\n",
    "# ax2.plot(recovered_vector)\n",
    "# ax2.set_title(\"Recovered signal\")\n",
    "# plt.show()\n",
    "# error = np.linalg.norm((y - recovered_vector),2)\n",
    "# print(\"error is \", error)"
   ]
  },
  {
   "cell_type": "code",
   "execution_count": 6,
   "metadata": {},
   "outputs": [
    {
     "data": {
      "text/plain": [
       "array([[ 0.25      ,  0.3       ,  0.4       ,  0.5       ,  0.9       ],\n",
       "       [ 9.34063428, 10.23215219, 11.81507164, 13.20965168, 17.72260747],\n",
       "       [ 2.89040184,  2.75757934,  2.37431027,  2.09262654,  1.71930422]])"
      ]
     },
     "execution_count": 6,
     "metadata": {},
     "output_type": "execute_result"
    }
   ],
   "source": [
    "#ok\n",
    "# so in a very odd turn of events this performs better in noisier systems\n",
    "x = generate_sparse_vector(1024,50)\n",
    "\n",
    "def avg_10_recoveries(noise):\n",
    "    #we're gonna perform the recovery 10 times at a noise level\n",
    "    # and get the average error and eps.\n",
    "    # noise_levels should be an array\n",
    "    errors = np.zeros(10)\n",
    "    for i in range(0,10):\n",
    "        #perform recovery\n",
    "        (recovered_vector,signal) = recovery_process(noise)\n",
    "        errors[i] = np.linalg.norm((signal - recovered_vector),2)\n",
    "    avg_error = np.average(errors)\n",
    "    return avg_error\n",
    "\n",
    "# test = avg_10_recoveries(0.25)\n",
    "#print(\"average error with sigma^2 = 0.25 is\", test)\n",
    "noise_eps = np.array([[0.25,0.3,0.4,0.5,0.9],[0,0,0,0,0],[0,0,0,0,0]])\n",
    "for i in range(0,5):\n",
    "    #second row is column for epsilon\n",
    "    noise_eps[1,i] = math.sqrt(noise_eps[0,i]*(300+ 2*math.sqrt(2*300)))\n",
    "\n",
    "#whew now for something that will take a long time\n",
    "for i in range(0,5):\n",
    "    noise_eps[2,i] = avg_10_recoveries(noise_eps[0,i])\n",
    "noise_eps"
   ]
  },
  {
   "cell_type": "code",
   "execution_count": null,
   "metadata": {},
   "outputs": [],
   "source": []
  }
 ],
 "metadata": {
  "kernelspec": {
   "display_name": "csexp",
   "language": "python",
   "name": "csexp"
  },
  "language_info": {
   "codemirror_mode": {
    "name": "ipython",
    "version": 3
   },
   "file_extension": ".py",
   "mimetype": "text/x-python",
   "name": "python",
   "nbconvert_exporter": "python",
   "pygments_lexer": "ipython3",
   "version": "3.8.6"
  }
 },
 "nbformat": 4,
 "nbformat_minor": 2
}
